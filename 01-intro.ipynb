{
 "cells": [
  {
   "cell_type": "markdown",
   "id": "f09cc7d4-1d0d-4cdc-b39a-fee8abae158e",
   "metadata": {},
   "source": [
    "## Import libraries"
   ]
  },
  {
   "cell_type": "code",
   "execution_count": 1,
   "id": "e22ccd5c-f544-4b76-9e30-ac6f49228428",
   "metadata": {},
   "outputs": [],
   "source": [
    "import numpy as np\n",
    "import pandas as pd"
   ]
  },
  {
   "cell_type": "markdown",
   "id": "54a932a4-4528-4b3f-8c00-3f9202f6169d",
   "metadata": {},
   "source": [
    "### Pandas Version"
   ]
  },
  {
   "cell_type": "code",
   "execution_count": 2,
   "id": "8a86a601-26a3-4256-a896-6a8805df9478",
   "metadata": {},
   "outputs": [
    {
     "data": {
      "text/plain": [
       "'2.2.2'"
      ]
     },
     "execution_count": 2,
     "metadata": {},
     "output_type": "execute_result"
    }
   ],
   "source": [
    "pd.__version__"
   ]
  },
  {
   "cell_type": "markdown",
   "id": "577b2529-9de9-4c21-b5cf-556c44ed9f29",
   "metadata": {},
   "source": [
    "### Records Count"
   ]
  },
  {
   "cell_type": "code",
   "execution_count": 3,
   "id": "5349920d-8cb1-45f4-90a9-f2b4ff23c80b",
   "metadata": {},
   "outputs": [],
   "source": [
    "df = pd.read_csv('laptops.csv')"
   ]
  },
  {
   "cell_type": "code",
   "execution_count": 4,
   "id": "86970c72-2d3c-4c10-a940-09f5cc0a5fff",
   "metadata": {},
   "outputs": [
    {
     "data": {
      "text/plain": [
       "2160"
      ]
     },
     "execution_count": 4,
     "metadata": {},
     "output_type": "execute_result"
    }
   ],
   "source": [
    "df.shape[0]"
   ]
  },
  {
   "cell_type": "markdown",
   "id": "61ae2120-0efb-4b4a-a131-94c850d38458",
   "metadata": {},
   "source": [
    "### Laptop Brands"
   ]
  },
  {
   "cell_type": "code",
   "execution_count": 5,
   "id": "19d98c05-8b2d-4139-b75d-83701b247f31",
   "metadata": {},
   "outputs": [
    {
     "data": {
      "text/plain": [
       "27"
      ]
     },
     "execution_count": 5,
     "metadata": {},
     "output_type": "execute_result"
    }
   ],
   "source": [
    "df.Brand.unique().shape[0]"
   ]
  },
  {
   "cell_type": "markdown",
   "id": "1d384012-8938-4b16-8205-ef419c4ddf40",
   "metadata": {},
   "source": [
    "### Missing Values"
   ]
  },
  {
   "cell_type": "code",
   "execution_count": 6,
   "id": "3f3bba56-a85d-4318-993f-d48b6e0cb2b4",
   "metadata": {},
   "outputs": [
    {
     "data": {
      "text/plain": [
       "GPU             1371\n",
       "Storage type      42\n",
       "Screen             4\n",
       "Laptop             0\n",
       "Status             0\n",
       "Brand              0\n",
       "Model              0\n",
       "CPU                0\n",
       "RAM                0\n",
       "Storage            0\n",
       "Touch              0\n",
       "Final Price        0\n",
       "dtype: int64"
      ]
     },
     "execution_count": 6,
     "metadata": {},
     "output_type": "execute_result"
    }
   ],
   "source": [
    "df.isnull().sum().sort_values(ascending = False)"
   ]
  },
  {
   "cell_type": "markdown",
   "id": "1f01bc79-c94d-45f4-bb24-8bff5683b316",
   "metadata": {},
   "source": [
    "### Maximum Final Price"
   ]
  },
  {
   "cell_type": "code",
   "execution_count": 7,
   "id": "d1c596ab-a581-493d-9ce7-5008182d8f00",
   "metadata": {},
   "outputs": [
    {
     "data": {
      "text/plain": [
       "3936.0"
      ]
     },
     "execution_count": 7,
     "metadata": {},
     "output_type": "execute_result"
    }
   ],
   "source": [
    "df[df.Brand==\"Dell\"]['Final Price'].max()"
   ]
  },
  {
   "cell_type": "markdown",
   "id": "3414df9d-d3d9-466c-92b7-f150a421d22a",
   "metadata": {},
   "source": [
    "### Median Value of Screen"
   ]
  },
  {
   "cell_type": "code",
   "execution_count": 8,
   "id": "b94883f7-9a0e-403a-aacd-7b8f1590d4d0",
   "metadata": {},
   "outputs": [],
   "source": [
    "median = df.Screen.median()"
   ]
  },
  {
   "cell_type": "code",
   "execution_count": 9,
   "id": "bf609dbf-3d77-4a6c-8341-16efa3b56bd2",
   "metadata": {},
   "outputs": [],
   "source": [
    "mode = df.Screen.mode()[0]"
   ]
  },
  {
   "cell_type": "code",
   "execution_count": 10,
   "id": "566c46c6-8f6a-404f-aec7-b8760a5e58dd",
   "metadata": {},
   "outputs": [
    {
     "data": {
      "text/plain": [
       "(15.6, 15.6)"
      ]
     },
     "execution_count": 10,
     "metadata": {},
     "output_type": "execute_result"
    }
   ],
   "source": [
    "median, mode"
   ]
  },
  {
   "cell_type": "code",
   "execution_count": 11,
   "id": "d5ef6698-755b-4ca9-8013-112b0edd8519",
   "metadata": {},
   "outputs": [],
   "source": [
    "df.Screen = df.Screen.fillna(value = mode)"
   ]
  },
  {
   "cell_type": "code",
   "execution_count": 12,
   "id": "cee0af58-d922-4aca-aeb5-057e64dc9360",
   "metadata": {},
   "outputs": [
    {
     "data": {
      "text/plain": [
       "15.6"
      ]
     },
     "execution_count": 12,
     "metadata": {},
     "output_type": "execute_result"
    }
   ],
   "source": [
    "df.Screen.median()"
   ]
  },
  {
   "cell_type": "markdown",
   "id": "6762f2a6-b467-4e2d-bf27-e30c0969a041",
   "metadata": {},
   "source": [
    "### Sum of weights"
   ]
  },
  {
   "cell_type": "code",
   "execution_count": 13,
   "id": "54509e68-3391-460f-80a7-6c2d98cd56c0",
   "metadata": {},
   "outputs": [],
   "source": [
    "X = df[df.Brand==\"Innjoo\"][[\"RAM\", \"Storage\", \"Screen\"]].to_numpy()"
   ]
  },
  {
   "cell_type": "code",
   "execution_count": 14,
   "id": "426e66b2-73e0-4db4-8fba-58745d9f4a74",
   "metadata": {},
   "outputs": [
    {
     "data": {
      "text/plain": [
       "array([[2.52000e+02, 8.32000e+03, 5.59800e+02],\n",
       "       [8.32000e+03, 3.68640e+05, 1.73952e+04],\n",
       "       [5.59800e+02, 1.73952e+04, 1.28196e+03]])"
      ]
     },
     "execution_count": 14,
     "metadata": {},
     "output_type": "execute_result"
    }
   ],
   "source": [
    "XTX = X.T@X\n",
    "XTX"
   ]
  },
  {
   "cell_type": "code",
   "execution_count": 15,
   "id": "41b3271d-3951-46ad-a824-dad83bab2af4",
   "metadata": {},
   "outputs": [
    {
     "data": {
      "text/plain": [
       "array([[ 2.78025381e-01, -1.51791334e-03, -1.00809855e-01],\n",
       "       [-1.51791334e-03,  1.58286725e-05,  4.48052175e-04],\n",
       "       [-1.00809855e-01,  4.48052175e-04,  3.87214888e-02]])"
      ]
     },
     "execution_count": 15,
     "metadata": {},
     "output_type": "execute_result"
    }
   ],
   "source": [
    "XTX_inv = np.linalg.inv(XTX)\n",
    "XTX_inv"
   ]
  },
  {
   "cell_type": "code",
   "execution_count": 16,
   "id": "422d75bd-0d43-4ea8-ad55-308dc6de8e70",
   "metadata": {},
   "outputs": [],
   "source": [
    "y = np.array([1100, 1300, 800, 900, 1000, 1100])"
   ]
  },
  {
   "cell_type": "code",
   "execution_count": 17,
   "id": "df24901f-1120-40e0-98a8-d753224ba823",
   "metadata": {},
   "outputs": [
    {
     "data": {
      "text/plain": [
       "array([45.58076606,  0.42783519, 45.29127938])"
      ]
     },
     "execution_count": 17,
     "metadata": {},
     "output_type": "execute_result"
    }
   ],
   "source": [
    "w = XTX_inv@X.T@y\n",
    "w"
   ]
  },
  {
   "cell_type": "code",
   "execution_count": 18,
   "id": "1064ac0b-8f11-4192-9bf9-b4679dd064d5",
   "metadata": {},
   "outputs": [
    {
     "data": {
      "text/plain": [
       "91.2998806299555"
      ]
     },
     "execution_count": 18,
     "metadata": {},
     "output_type": "execute_result"
    }
   ],
   "source": [
    "sum(w)"
   ]
  }
 ],
 "metadata": {
  "kernelspec": {
   "display_name": "Python 3 (ipykernel)",
   "language": "python",
   "name": "python3"
  },
  "language_info": {
   "codemirror_mode": {
    "name": "ipython",
    "version": 3
   },
   "file_extension": ".py",
   "mimetype": "text/x-python",
   "name": "python",
   "nbconvert_exporter": "python",
   "pygments_lexer": "ipython3",
   "version": "3.11.1"
  }
 },
 "nbformat": 4,
 "nbformat_minor": 5
}
